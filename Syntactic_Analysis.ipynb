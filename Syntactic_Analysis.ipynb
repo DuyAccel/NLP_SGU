{
 "cells": [
  {
   "cell_type": "markdown",
   "metadata": {},
   "source": [
    "# Syntactic Analysis"
   ]
  },
  {
   "cell_type": "code",
   "execution_count": 1,
   "metadata": {},
   "outputs": [],
   "source": [
    "# Import libraries\n",
    "import nltk\n"
   ]
  },
  {
   "cell_type": "code",
   "execution_count": 2,
   "metadata": {},
   "outputs": [],
   "source": [
    "# Write CFG\n",
    "cfg = \"\"\"\n",
    "S -> NP VP\n",
    "NP -> PropN\n",
    "NP -> N\n",
    "VP -> V NP\n",
    "VP -> V PP\n",
    "VP -> V NP PP\n",
    "PP -> prep NP\n",
    "PropN -> 'Nam'\n",
    "N -> 'bài' | 'thư_viện'\n",
    "V -> 'học'\n",
    "prep -> 'ở'\n",
    "\"\"\""
   ]
  },
  {
   "cell_type": "code",
   "execution_count": 3,
   "metadata": {},
   "outputs": [
    {
     "name": "stdout",
     "output_type": "stream",
     "text": [
      "(S\n",
      "  (NP (PropN Nam))\n",
      "  (VP (V học) (NP (N bài)) (PP (prep ở) (NP (N thư_viện)))))\n"
     ]
    }
   ],
   "source": [
    "gmr = nltk.CFG.fromstring(cfg)\n",
    "rd_parser = nltk.RecursiveDescentParser(gmr)\n",
    "s = \"Nam học bài ở thư_viện\".split()\n",
    "for tree in rd_parser.parse(s):\n",
    "    print(tree)"
   ]
  },
  {
   "cell_type": "code",
   "execution_count": 4,
   "metadata": {},
   "outputs": [],
   "source": [
    "#load Grammar\n",
    "gmr2 = nltk.data.load('file:Grammar.cfg')\n",
    "sentences = ['tôi xin người cứ gian_dối',\n",
    "'người_ấy thường hay vuốt tóc tôi',\n",
    "'hai con_hạc trắng bay về bồng_lai',\n",
    "'tôi sợ chiều_thu phớt nắng mờ']"
   ]
  },
  {
   "cell_type": "code",
   "execution_count": 5,
   "metadata": {},
   "outputs": [],
   "source": [
    "# rd_parser2 = nltk.RecursiveDescentParser(gmr2, trace=2)\n",
    "# for i in sentences:\n",
    "#     sentence = i.split()\n",
    "#     print('\\n\\n-->Sentence:' + i)\n",
    "#     for tree in rd_parser2.parse(sentence):\n",
    "#         print(tree)\n",
    "\n",
    "# for i in gmr2.productions():\n",
    "#     print(i)"
   ]
  },
  {
   "cell_type": "code",
   "execution_count": 6,
   "metadata": {},
   "outputs": [],
   "source": [
    "gmr2 = nltk.data.load('file:Grammar2.cfg')\n",
    "sentences = ['Nam đang đọc sách ở thư_viện', 'Nam tặng quà cho Lan',\n",
    "            'Tôi xin người cứ gian dối', 'Thầy yêu_cầu học_sinh nộp bài',\n",
    "            'Nam và Lan học cùng lớp']"
   ]
  },
  {
   "cell_type": "code",
   "execution_count": 7,
   "metadata": {},
   "outputs": [
    {
     "name": "stdout",
     "output_type": "stream",
     "text": [
      "\n",
      "\n",
      "-->Sentence:Nam đang đọc sách ở thư_viện\n",
      "(S\n",
      "  (NP (PropN Nam))\n",
      "  (VP\n",
      "    (AdvP (Adv đang))\n",
      "    (V đọc)\n",
      "    (NP (N sách) (PP (prep ở) (NP (N thư_viện))))))\n",
      "\n",
      "\n",
      "-->Sentence:Nam tặng quà cho Lan\n",
      "(S\n",
      "  (NP (PropN Nam))\n",
      "  (VP (V tặng) (NP (N quà) (PP (prep cho) (NP (PropN Lan))))))\n",
      "(S\n",
      "  (NP (PropN Nam))\n",
      "  (VP (V tặng) (NP (N quà)) (prep cho) (NP (PropN Lan))))\n",
      "(S\n",
      "  (NP (PropN Nam))\n",
      "  (VP (V tặng) (NP (N quà)) (PP (prep cho) (NP (PropN Lan)))))\n",
      "\n",
      "\n",
      "-->Sentence:Tôi xin người cứ gian dối\n",
      "(S\n",
      "  (NP (PropN Tôi))\n",
      "  (VP (V xin) (NP (N người)) (VP (V cứ) (AdjP (Adj gian) (Adj dối)))))\n",
      "\n",
      "\n",
      "-->Sentence:Thầy yêu_cầu học_sinh nộp bài\n",
      "(S\n",
      "  (NP (N Thầy))\n",
      "  (VP (V yêu_cầu) (NP (N học_sinh)) (VP (V nộp) (NP (N bài)))))\n",
      "\n",
      "\n",
      "-->Sentence:Nam và Lan học cùng lớp\n",
      "(S\n",
      "  (NP (PropN Nam) (CC và) (NP (PropN Lan)))\n",
      "  (VP (V học) (AdvP (Adv cùng) (NP (N lớp)))))\n"
     ]
    }
   ],
   "source": [
    "rd_parser2 = nltk.RecursiveDescentParser(gmr2)\n",
    "for i in sentences:\n",
    "    sentence = i.split()\n",
    "    print('\\n\\n-->Sentence:' + i)\n",
    "    for tree in rd_parser2.parse(sentence):\n",
    "        print(tree)\n"
   ]
  }
 ],
 "metadata": {
  "kernelspec": {
   "display_name": "Python 3.9.12 ('base')",
   "language": "python",
   "name": "python3"
  },
  "language_info": {
   "codemirror_mode": {
    "name": "ipython",
    "version": 3
   },
   "file_extension": ".py",
   "mimetype": "text/x-python",
   "name": "python",
   "nbconvert_exporter": "python",
   "pygments_lexer": "ipython3",
   "version": "3.9.12"
  },
  "orig_nbformat": 4,
  "vscode": {
   "interpreter": {
    "hash": "4f188d20b65bfaf87eb1b97d6df940319a8b9cebab040ca59e28b3316e9b867f"
   }
  }
 },
 "nbformat": 4,
 "nbformat_minor": 2
}
