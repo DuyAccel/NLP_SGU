{
 "cells": [
  {
   "cell_type": "markdown",
   "metadata": {},
   "source": [
    "# Syntactic Analysis"
   ]
  },
  {
   "cell_type": "code",
   "execution_count": 3,
   "metadata": {},
   "outputs": [],
   "source": [
    "# Import libraries\n",
    "import nltk\n"
   ]
  },
  {
   "cell_type": "code",
   "execution_count": 43,
   "metadata": {},
   "outputs": [],
   "source": [
    "# Write CFG\n",
    "cfg = \"\"\"\n",
    "S -> NP VP\n",
    "NP -> Nom\n",
    "NP -> Det Nom\n",
    "Det -> CD\n",
    "Nom -> PropN\n",
    "Nom -> N\n",
    "Nom -> N PP\n",
    "Nom -> UN PropN\n",
    "Nom -> UN N\n",
    "Nom -> UN N Adj\n",
    "\n",
    "VP -> V NP\n",
    "VP -> V VP\n",
    "VP -> V NP VP\n",
    "VP -> V Adv NP\n",
    "VP -> V PP NP\n",
    "VP -> Adv VP PP\n",
    "\n",
    "PP -> P NP\n",
    "\n",
    "PropN -> 'Nam' | 'Lan' | 'Nguyễn_Nhật_Ánh'\n",
    "N     -> 'sách' | 'bạn' | 'trường'\n",
    "UN    -> 'cuốn' | 'người' | 'tác_giả'\n",
    "CD    -> 'một'\n",
    "P     -> 'ở' | 'của' | 'cho'\n",
    "V     -> 'tặng' | 'cho' | 'mượn'| 'gặp' | 'thích' | 'đọc'\n",
    "Adv   -> 'mới' | 'lại'\n",
    "Adj   -> 'mới' | 'cũ'\n",
    "\n",
    "\"\"\""
   ]
  },
  {
   "cell_type": "code",
   "execution_count": 44,
   "metadata": {},
   "outputs": [],
   "source": [
    "data = [\n",
    "    \"Nam tặng cho Lan một cuốn sách mới\",\n",
    "    \"Nam cho Lan mượn một cuốn sách\",\n",
    "    \"Nam mới gặp lại một người bạn cũ ở trường\",\n",
    "    \"Nam thích đọc sách của tác_giả Nguyễn_Nhật_Ánh\"\n",
    "]"
   ]
  },
  {
   "cell_type": "code",
   "execution_count": 45,
   "metadata": {},
   "outputs": [],
   "source": [
    "grm = nltk.CFG.fromstring(cfg)\n",
    "my_parser = nltk.RecursiveDescentParser(grm)"
   ]
  },
  {
   "cell_type": "code",
   "execution_count": 46,
   "metadata": {},
   "outputs": [
    {
     "name": "stdout",
     "output_type": "stream",
     "text": [
      "                     S                        \n",
      "   __________________|____                     \n",
      "  |                       VP                  \n",
      "  |     __________________|________            \n",
      "  |    |        PP                 |          \n",
      "  |    |     ___|____              |           \n",
      "  NP   |    |        NP            NP         \n",
      "  |    |    |        |     ________|___        \n",
      " Nom   |    |       Nom  Det          Nom     \n",
      "  |    |    |        |    |    ________|____   \n",
      "PropN  V    P      PropN  CD  UN       N   Adj\n",
      "  |    |    |        |    |   |        |    |  \n",
      " Nam  tặng cho      Lan  một cuốn     sách mới\n",
      "\n",
      "None\n",
      "       S                                  \n",
      "   ____|_________                          \n",
      "  |              VP                       \n",
      "  |     _________|________                 \n",
      "  |    |    |             VP              \n",
      "  |    |    |     ________|___             \n",
      "  NP   |    NP   |            NP          \n",
      "  |    |    |    |     _______|____        \n",
      " Nom   |   Nom   |   Det          Nom     \n",
      "  |    |    |    |    |        ____|___    \n",
      "PropN  V  PropN  V    CD      UN       N  \n",
      "  |    |    |    |    |       |        |   \n",
      " Nam  cho  Lan  mượn một     cuốn     sách\n",
      "\n",
      "None\n",
      "                   S                                  \n",
      "   ________________|____                               \n",
      "  |                     VP                            \n",
      "  |     ________________|____________________          \n",
      "  |    |           VP                        PP       \n",
      "  |    |    _______|_________             ___|____     \n",
      "  NP   |   |   |             NP          |        NP  \n",
      "  |    |   |   |    _________|___        |        |    \n",
      " Nom   |   |   |  Det           Nom      |       Nom  \n",
      "  |    |   |   |   |     ________|___    |        |    \n",
      "PropN Adv  V  Adv  CD   UN       N  Adj  P        N   \n",
      "  |    |   |   |   |    |        |   |   |        |    \n",
      " Nam  mới gặp lại một người     bạn  cũ  ở      trường\n",
      "\n",
      "None\n",
      "        S                                               \n",
      "   _____|________                                        \n",
      "  |              VP                                     \n",
      "  |      ________|____                                   \n",
      "  |     |             VP                                \n",
      "  |     |     ________|___                               \n",
      "  |     |    |            NP                            \n",
      "  |     |    |            |                              \n",
      "  |     |    |           Nom                            \n",
      "  |     |    |    ________|_____                         \n",
      "  |     |    |   |              PP                      \n",
      "  |     |    |   |     _________|_____                   \n",
      "  NP    |    |   |    |               NP                \n",
      "  |     |    |   |    |               |                  \n",
      " Nom    |    |   |    |              Nom                \n",
      "  |     |    |   |    |          _____|_________         \n",
      "PropN   V    V   N    P         UN            PropN     \n",
      "  |     |    |   |    |         |               |        \n",
      " Nam  thích đọc sách của     tác_giả     Nguyễn_Nhật_Ánh\n",
      "\n",
      "None\n"
     ]
    }
   ],
   "source": [
    "for sentence in data:\n",
    "    s = sentence.split()\n",
    "    for tree in my_parser.parse(s):\n",
    "        print(tree.pretty_print())"
   ]
  }
 ],
 "metadata": {
  "kernelspec": {
   "display_name": "Python 3.9.12 ('base')",
   "language": "python",
   "name": "python3"
  },
  "language_info": {
   "codemirror_mode": {
    "name": "ipython",
    "version": 3
   },
   "file_extension": ".py",
   "mimetype": "text/x-python",
   "name": "python",
   "nbconvert_exporter": "python",
   "pygments_lexer": "ipython3",
   "version": "3.9.12"
  },
  "orig_nbformat": 4,
  "vscode": {
   "interpreter": {
    "hash": "4f188d20b65bfaf87eb1b97d6df940319a8b9cebab040ca59e28b3316e9b867f"
   }
  }
 },
 "nbformat": 4,
 "nbformat_minor": 2
}
